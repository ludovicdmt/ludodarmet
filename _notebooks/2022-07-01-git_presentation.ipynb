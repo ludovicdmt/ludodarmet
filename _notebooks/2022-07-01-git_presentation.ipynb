{
 "cells": [
  {
   "cell_type": "markdown",
   "metadata": {
    "slideshow": {
     "slide_type": "slide"
    }
   },
   "source": [
    "# Version control and track changes\n",
    "## Git, GitHub, Gitlab\n",
    "\n",
    "An introduction to version control, easy to share/reproduce code, and more!\n",
    "\n",
    "By: L. Darmet and JJ. Torre\n",
    "\n",
    "<img src=\"./files/banner.png\" alt=\"drawing\" width=\"500\">"
   ]
  },
  {
   "cell_type": "markdown",
   "metadata": {
    "slideshow": {
     "slide_type": "subslide"
    }
   },
   "source": [
    "<center>Are you in this picture?</center>\n",
    "<center>\n",
    "<img src=\"./files/final.png\" alt=\"drawing\" style=\"margin:auto\" width='500' height='500'>\n",
    "</center>"
   ]
  },
  {
   "cell_type": "markdown",
   "metadata": {
    "slideshow": {
     "slide_type": "subslide"
    }
   },
   "source": [
    "<center>Or in this one ?</center>\n",
    "<center>\n",
    "<img src=\"./files/ctrlz.png\" alt=\"drawing\" style=\"margin:auto\" width='500' height='500'>\n",
    "</center>"
   ]
  },
  {
   "cell_type": "markdown",
   "metadata": {
    "slideshow": {
     "slide_type": "subslide"
    }
   },
   "source": [
    "<center>\n",
    "    <h1> Version control can be a solution ! </h1>\n",
    "<img src=\"./files/git_flow.png\" alt=\"drawing\" style=\"margin:auto\" width='300' height='300'>\n",
    "\n",
    "</center>"
   ]
  },
  {
   "cell_type": "markdown",
   "metadata": {
    "slideshow": {
     "slide_type": "subslide"
    }
   },
   "source": [
    "## Use cases\n",
    "* **Keep track of file changes** (also with Matlab..!) 🖥️\n",
    "* **Synchronize** changes among team members 🤝\n",
    "* **Share** the code along your publication: open science and open data 📡\n",
    "    - Yes you are ashamed to share your code but it would put a strain on you for better code (cleaner, clearer, etc) 🥲\n",
    "    - Sharing only data is sometimes harsh if you don't provide an example on how to use them 🙏"
   ]
  },
  {
   "cell_type": "markdown",
   "metadata": {
    "slideshow": {
     "slide_type": "subslide"
    }
   },
   "source": [
    "* Maintain a **code library** 📚 to share existing code with new interns, PhD, collaborators,...\n",
    "    - Avoid developing again and again the same tools for experimental protocol, pre-processing, data visualization...\n",
    "    - Standard pipelines\n",
    "    - We have created a **CNE organization** on GitHub to centralize code\n",
    "<center>\n",
    "<img src=\"./files/expprotocol.jpg\" alt=\"drawing\" style=left width='300' height='300'>\n",
    "</center>"
   ]
  },
  {
   "cell_type": "markdown",
   "metadata": {
    "slideshow": {
     "slide_type": "subslide"
    }
   },
   "source": [
    "* Manage and maintain the $\\LaTeX$ code of your thesis 🤓\n",
    "* Overleaf supports direct sync with GitHub to import existing repos or create one based on current project.\n",
    "> This direct sync also allows to backup your Overleaf projects"
   ]
  },
  {
   "cell_type": "markdown",
   "metadata": {
    "slideshow": {
     "slide_type": "slide"
    },
    "tags": []
   },
   "source": [
    "# Git + GitHub is the most common version control system\n",
    "\n",
    "## What are the differences between the two ?\n",
    "<center>\n",
    "<img src=\"./files/git_github.jpg\" alt=\"drawing\" margin='left' width='350' height='350'>\n",
    "</center>"
   ]
  },
  {
   "cell_type": "markdown",
   "metadata": {
    "slideshow": {
     "slide_type": "subslide"
    }
   },
   "source": [
    "<img src=\"./files/git_logo.png\" alt=\"drawing\" margin='left' width='100' height='100'>\n",
    "\n",
    "- Git is an **open-source distributed version control tool**\n",
    "- It follows the evolution of a set of files in your computer, called a **repository** or **repo**\n",
    "- Created by Linus Torvalds (creator of Linux and Android) in 2005 and maintaned by the Linux Foundation\n"
   ]
  },
  {
   "cell_type": "markdown",
   "metadata": {
    "slideshow": {
     "slide_type": "subslide"
    }
   },
   "source": [
    "<img src=\"./files/github_logo.png\" alt=\"drawing\" style=left width='75' height='75'>\n",
    "\n",
    "* Github is an **online hosting service for git repos**\n",
    "* Startup created in 2008, acquired by **Microsoft** in 2018\n",
    "* The repos can be either **private** or **public**\n",
    "* Additionnal features:\n",
    "    - **Features requests, issues and pull request**: ask for new functionnality and merge new functionnality to the exisiting code after review by the owner\n",
    "    - A **wiki** for each project\n",
    "    - **Continuous integration tools** (run automatic tests to check if additions in the code don't alter the expected outputs)\n",
    "    - Host your **personnal website**\n",
    "* Cute cat/octopus mascot\n",
    "* **Follow** people and explore their code database\n"
   ]
  },
  {
   "cell_type": "markdown",
   "metadata": {
    "slideshow": {
     "slide_type": "subslide"
    }
   },
   "source": [
    "## Personnal static website\n",
    "<img src=\"./files/website.png\" alt=\"drawing\" style=left width='950' height='950'>"
   ]
  },
  {
   "cell_type": "markdown",
   "metadata": {
    "slideshow": {
     "slide_type": "subslide"
    }
   },
   "source": [
    "- There exists other online hosting services such as **Bitbucket** (also private company) or **Gitlab** (open-source).\n",
    "- We have a **self-hosted Gitlab in ISAE**..! 💫\n",
    "<br />\n",
    "<center>\n",
    "<div class=\"row\">\n",
    "  <div class=\"row\">\n",
    "    <img src=\"./files/bitbucket-logo.png\" alt=\"drawing\" style=left width='150' height='150'>\n",
    "  </div>\n",
    "  <div class=\"column\">\n",
    "    <img src=\"./files/gitlab.png\" alt=\"drawing\" style=left width='250' height='250'>\n",
    "  </div>\n",
    "</div>   \n",
    "</center>"
   ]
  },
  {
   "cell_type": "markdown",
   "metadata": {
    "slideshow": {
     "slide_type": "slide"
    }
   },
   "source": [
    "# Get GitHub for free\n",
    " **GitHub is free** but you may encounter limitations if you do not suscribe to **GitHub Pro** (4\\$ per month 💸)"
   ]
  },
  {
   "cell_type": "markdown",
   "metadata": {
    "slideshow": {
     "slide_type": "fragment"
    }
   },
   "source": [
    "Because of your academic or student status you can get **Github Pro for free**.\n",
    "\n",
    "Apply here:\n",
    "https://education.github.com/benefits\n",
    "\n",
    "<center>\n",
    "<img src=\"./files/githubstudent.jpg\" alt=\"drawing\" style=left width='350' height='350'>\n",
    "</center>"
   ]
  },
  {
   "cell_type": "markdown",
   "metadata": {
    "slideshow": {
     "slide_type": "subslide"
    }
   },
   "source": [
    "# Or use the Gitlab of ISAE-Supaero 🤯\n",
    "\n",
    "1. Open **a ticket** to ask access to the GitLab\n",
    "2. Sign in and connect in: https://gitlab.isae-supaero.fr/users/sign_in\n",
    "\n",
    "<center>\n",
    "<img src=\"./files/gitlabisae.jpg\" alt=\"drawing\" style=left width='450' height='450'>\n",
    "</center>"
   ]
  },
  {
   "cell_type": "markdown",
   "metadata": {
    "slideshow": {
     "slide_type": "subslide"
    }
   },
   "source": [
    "# Terminology\n",
    "- Create a **repository** or **repo** and **clone** it\n",
    "- **Commit** your changes (locally) and then **push** (remote) $\\rightarrow$ keep track of changes/addition\n",
    "- **Pull** to get latest changes from other people\n",
    "- Going back to a previous **commit**\n",
    "- Solve **merge conflicts**\n",
    "- Use **branch** to develop features in parallel"
   ]
  },
  {
   "cell_type": "markdown",
   "metadata": {
    "slideshow": {
     "slide_type": "subslide"
    }
   },
   "source": [
    " <center>\n",
    " <img src=\"./files/commits.png\" alt=\"drawing\" style=left width='900' height='900'>\n",
    " </center>"
   ]
  },
  {
   "cell_type": "markdown",
   "metadata": {
    "slideshow": {
     "slide_type": "slide"
    },
    "tags": []
   },
   "source": [
    "# Code example to start using Gitub 👩‍💻"
   ]
  },
  {
   "cell_type": "markdown",
   "metadata": {
    "slideshow": {
     "slide_type": "fragment"
    }
   },
   "source": [
    "## Install Git on your machine\n",
    "* On Linux from a terminal:\n",
    "```bash\n",
    "sudo apt update\n",
    "sudo apt install git-all\n",
    "```\n",
    "* On Windows:  \n",
    "    - Download it from <https://git-scm.com/download/win>\n",
    "    - Run the installer"
   ]
  },
  {
   "cell_type": "markdown",
   "metadata": {
    "slideshow": {
     "slide_type": "subslide"
    }
   },
   "source": [
    "## Create a local repo from scratch \n",
    "> Enter commands in GitBash for Windows and on terminal for Linux\n",
    "\n",
    "\n",
    "```bash\n",
    "mkdir mynewrepo && cd mynewrepo\n",
    "git init \n",
    "ECHO >> README.md\n",
    "git add README.md\n",
    "git commit -m \"Add README\"\n",
    "```"
   ]
  },
  {
   "cell_type": "markdown",
   "metadata": {
    "slideshow": {
     "slide_type": "subslide"
    }
   },
   "source": [
    "## Connect your machine with GitHub\n",
    "> First you need to create an account on <https://github.com>  \n",
    "> Then we will need **SSH key** to have a secure and authentified connection\n",
    "\n",
    "1. In terminal or GitBash, generate SSH keys:  \n",
    "```bash\n",
    "ssh-keygen -t rsa -C \"your_email@example.com\"\n",
    "```\n",
    "Use same email as registred on GitHub. Then press `Enter` two times (no need to set a password).\n",
    "\n",
    "\n",
    "\n",
    "2. Then open the generated (public) key to share it with GitHub:\n",
    "```bash\n",
    "notepad ~/.ssh/id_rsa.pub\n",
    "```\n",
    "3. On GitHub website go to: **Settings** > **SSH and GPG Keys**. Click on **New SSH key** and enter a title.  \n",
    "  \n",
    "4. In the field **Key** paste all the contents of the file `id_rsa.pub` that you have just opened, beginning at `ssh-ras ...` up to your email (including it). You can copy with a terminal utility (such as `xclip`) if copying by hand does not work\n",
    "5. Click **Add SSH key**"
   ]
  },
  {
   "cell_type": "markdown",
   "metadata": {
    "slideshow": {
     "slide_type": "subslide"
    }
   },
   "source": [
    "## Connect your local repo to GitHub\n",
    "> As you have setup a secured SSH key, no need for password\n",
    "\n",
    "Go back to you terminal where you have initialized your local repo:\n",
    "```bash\n",
    "git remote add origin git@github.com:username/new_repo\n",
    "git push -u origin master\n",
    "```"
   ]
  },
  {
   "cell_type": "markdown",
   "metadata": {
    "slideshow": {
     "slide_type": "slide"
    },
    "tags": []
   },
   "source": [
    "# Or use a GUI for simpler interactions 🤓"
   ]
  },
  {
   "cell_type": "markdown",
   "metadata": {
    "slideshow": {
     "slide_type": "subslide"
    }
   },
   "source": [
    "- GitHub Desktop: from Github directly\n",
    "- Gitkraken: the most comprehensive (requires GitHub Pro)\n",
    "\n",
    "<center>\n",
    "<img src=\"./files/gitkraken.jpeg\" alt=\"drawing\" style=left width='550' height='550'>\n",
    "</center>\n",
    "\n",
    "> They also handle the SSH keys for you"
   ]
  },
  {
   "cell_type": "markdown",
   "metadata": {
    "slideshow": {
     "slide_type": "subslide"
    }
   },
   "source": [
    "<img src=\"./files/gitkrakenGUI.png\" alt=\"drawing\" style=left width='1050' height='1050'>"
   ]
  },
  {
   "cell_type": "markdown",
   "metadata": {
    "slideshow": {
     "slide_type": "slide"
    }
   },
   "source": [
    "<center>\n",
    "    <font size=\"5\">Thank you for your attention! </font>   \n",
    "</center>\n",
    "<br />\n",
    "\n",
    "<center>\n",
    "    <font size=\"5\">Questions ❓ </font>  \n",
    "</center>   \n",
    "<br />\n",
    "\n",
    "\n",
    "<center>\n",
    "<img src=\"./files/perfectworld.jpg\" alt=\"drawing\" style=left width='800' height='800'>\n",
    "</center>"
   ]
  }
 ],
 "metadata": {
  "celltoolbar": "Diaporama",
  "kernelspec": {
   "display_name": "Python 3 (ipykernel)",
   "language": "python",
   "name": "python3"
  },
  "language_info": {
   "codemirror_mode": {
    "name": "ipython",
    "version": 3
   },
   "file_extension": ".py",
   "mimetype": "text/x-python",
   "name": "python",
   "nbconvert_exporter": "python",
   "pygments_lexer": "ipython3",
   "version": "3.8.10"
  },
  "toc-showcode": true,
  "toc-showmarkdowntxt": false,
  "toc-showtags": false
 },
 "nbformat": 4,
 "nbformat_minor": 4
}

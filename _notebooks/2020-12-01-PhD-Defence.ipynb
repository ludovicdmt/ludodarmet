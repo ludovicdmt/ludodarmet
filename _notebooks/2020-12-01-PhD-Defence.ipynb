{
 "cells": [
  {
   "cell_type": "markdown",
   "id": "cd8e46ff-2078-485a-9601-4375f940cef4",
   "metadata": {},
   "source": [
    "# Towards model-based flexible and adaptive image forensics\n",
    "### Slides from my PhD thesis defence\n",
    "\n",
    "A quick overview of my work during these 3 years of PhD"
   ]
  },
  {
   "cell_type": "code",
   "execution_count": 1,
   "id": "e19a8f8c-91f9-4687-8224-f0c099683882",
   "metadata": {},
   "outputs": [],
   "source": [
    "class PDF(object):\n",
    "    def __init__(self, pdf, size=(200,200)):\n",
    "        self.pdf = pdf\n",
    "        self.size = size\n",
    "\n",
    "    def _repr_html_(self):\n",
    "        return '<iframe src={0} width={1[0]} height={1[1]}></iframe>'.format(self.pdf, self.size)\n",
    "\n",
    "    def _repr_latex_(self):\n",
    "        return r'\\includegraphics[width=1.0\\textwidth]{{{0}}}'.format(self.pdf)"
   ]
  },
  {
   "cell_type": "code",
   "execution_count": 4,
   "id": "78aa3203-e44f-4ebb-a8a6-24f517c22dd4",
   "metadata": {},
   "outputs": [
    {
     "data": {
      "text/html": [
       "<iframe src=./files/PhD_defence_DARMET.pdf width=1200 height=1000></iframe>"
      ],
      "text/latex": [
       "\\includegraphics[width=1.0\\textwidth]{./files/PhD_defence_DARMET.pdf}"
      ],
      "text/plain": [
       "<__main__.PDF at 0x7f685cad9040>"
      ]
     },
     "execution_count": 4,
     "metadata": {},
     "output_type": "execute_result"
    }
   ],
   "source": [
    "PDF('./files/PhD_defence_DARMET.pdf',size=(1200,1000))"
   ]
  }
 ],
 "metadata": {
  "kernelspec": {
   "display_name": "Python 3 (ipykernel)",
   "language": "python",
   "name": "python3"
  },
  "language_info": {
   "codemirror_mode": {
    "name": "ipython",
    "version": 3
   },
   "file_extension": ".py",
   "mimetype": "text/x-python",
   "name": "python",
   "nbconvert_exporter": "python",
   "pygments_lexer": "ipython3",
   "version": "3.8.10"
  }
 },
 "nbformat": 4,
 "nbformat_minor": 5
}
